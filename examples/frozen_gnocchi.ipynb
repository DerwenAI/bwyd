{
 "cells": [
  {
   "cell_type": "code",
   "execution_count": 1,
   "id": "6cc0f501-c18c-40af-85b9-bb9efef8d57b",
   "metadata": {
    "execution": {
     "iopub.execute_input": "2024-03-02T20:46:44.427180Z",
     "iopub.status.busy": "2024-03-02T20:46:44.426562Z",
     "iopub.status.idle": "2024-03-02T20:46:44.430545Z",
     "shell.execute_reply": "2024-03-02T20:46:44.429573Z",
     "shell.execute_reply.started": "2024-03-02T20:46:44.427153Z"
    }
   },
   "outputs": [
    {
     "name": "stdout",
     "output_type": "stream",
     "text": [
      "CLOSURE: \"raw gnocchi dumplings\"\n",
      "    NOTE: \"divide dough into 8 pieces, rolling out one at a time\"\n",
      "    CONTAINER mat: \"floured rolling surface\"\n",
      "\n",
      "    TOOL hand: \"clean hands\"\n",
      "    TOOL spoon: \"large spoon\"\n",
      "    TOOL fork: \"fork\"\n",
      "\n",
      "    USE dough: \"gnocchi dough\"\n",
      "    INGREDIENT flour: \"rice, semolina, etc.\"\n",
      "\n",
      "    FOCUS mat\n",
      "    ADD flour (10 g)\n",
      "\n",
      "    ACTION spoon: \"spread\"\n",
      "        UNTIL: \"evenly floured\"\n",
      "\tTIME (30 sec)\n",
      "\n",
      "    ADD dough (200 g)\n",
      "\n",
      "    ACTION hand: \"roll carefully into a rope\"\n",
      "        UNTIL: \"2 cm diameter\"\n",
      "\tTIME (60 sec)\n",
      "\n",
      "    ACTION fork: \"cut into 1 cm dumplings pieces, resembling little pillows\"\n",
      "        UNTIL: \"entire rope is cut\"\n",
      "\tTIME (30 sec)\n",
      "\n",
      "YIELDS (20)"
     ]
    }
   ],
   "source": [
    "CLOSURE: \"raw gnocchi dumplings\"\n",
    "    NOTE: \"divide dough into 8 pieces, rolling out one at a time\"\n",
    "    CONTAINER mat: \"floured rolling surface\"\n",
    "\n",
    "    TOOL hand: \"clean hands\"\n",
    "    TOOL spoon: \"large spoon\"\n",
    "    TOOL fork: \"fork\"\n",
    "\n",
    "    USE dough: \"gnocchi dough\"\n",
    "    INGREDIENT flour: \"rice, semolina, etc.\"\n",
    "\n",
    "    FOCUS mat\n",
    "    ADD flour (10 g)\n",
    "\n",
    "    ACTION spoon: \"spread\"\n",
    "        UNTIL: \"evenly floured\"\n",
    "\tTIME (30 sec)\n",
    "\n",
    "    ADD dough (200 g)\n",
    "\n",
    "    ACTION hand: \"roll carefully into a rope\"\n",
    "        UNTIL: \"2 cm diameter\"\n",
    "\tTIME (60 sec)\n",
    "\n",
    "    ACTION fork: \"cut into 1 cm dumplings pieces, resembling little pillows\"\n",
    "        UNTIL: \"entire rope is cut\"\n",
    "\tTIME (30 sec)\n",
    "\n",
    "YIELDS (20)"
   ]
  },
  {
   "cell_type": "code",
   "execution_count": null,
   "id": "acac661d-a723-4ff2-b089-f0ad5ceceb44",
   "metadata": {},
   "outputs": [],
   "source": []
  }
 ],
 "metadata": {
  "kernelspec": {
   "display_name": "Bwyd",
   "language": "bwyd",
   "name": "bwyd"
  },
  "language_info": {
   "file_extension": ".bwyd",
   "mimetype": "text/plain",
   "name": "Any text"
  }
 },
 "nbformat": 4,
 "nbformat_minor": 5
}
